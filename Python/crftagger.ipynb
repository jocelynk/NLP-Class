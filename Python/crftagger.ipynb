{
 "cells": [
  {
   "cell_type": "code",
   "execution_count": 124,
   "metadata": {
    "collapsed": true
   },
   "outputs": [],
   "source": [
    "import sys\n",
    "from itertools import chain\n",
    "import pycrfsuite\n",
    "import argparse"
   ]
  },
  {
   "cell_type": "code",
   "execution_count": 128,
   "metadata": {
    "collapsed": false
   },
   "outputs": [],
   "source": [
    "def process_features(train_file, test_file):\n",
    "    features_train = []\n",
    "    labels = []\n",
    "    with open(train_file) as f:\n",
    "        inputlines = f.readlines()\n",
    "        arr1 = []\n",
    "        arr2 = []\n",
    "        for line in inputlines:\n",
    "            l = line.strip().split()\n",
    "            feat = l[:-1]\n",
    "            label = l[-1]\n",
    "            arr1.append(feat)\n",
    "            arr2.append(label)\n",
    "            if(label == \"</S>\"):\n",
    "                features_train.append(arr1)\n",
    "                labels.append(arr2)\n",
    "                arr1 = []\n",
    "                arr2 = []\n",
    "\n",
    "    features_test = []           \n",
    "    with open(test_file) as f:\n",
    "        inputlines = f.readlines()\n",
    "        arr1 = []\n",
    "        prev_tag = \"POS_TAG=<S>\"\n",
    "        for line in inputlines:\n",
    "            l = line.strip().split()\n",
    "            arr1.append(l)\n",
    "\n",
    "            if(l[0] == \"POS_TAG=<S>\" and prev_tag != \"POS_TAG=<S>\"):\n",
    "                features_test.append(arr1)\n",
    "                arr1 = []\n",
    "\n",
    "            prev_tag = l[0]\n",
    "    return features_train, labels, features_test\n",
    "    \n",
    "\n",
    "            \n",
    "       \n",
    "\n",
    "        "
   ]
  },
  {
   "cell_type": "code",
   "execution_count": 129,
   "metadata": {
    "collapsed": false
   },
   "outputs": [],
   "source": [
    "def crf_tagger(X_train, Y_train, X_test, model_name, output_file):\n",
    "    %%time\n",
    "    trainer = pycrfsuite.Trainer(verbose=False)\n",
    "\n",
    "    for xseq, yseq in zip(X_train, Y_train):\n",
    "        trainer.append(xseq, yseq)\n",
    "        \n",
    "    trainer.set_params({\n",
    "        'c1': 0,   # coefficient for L1 penalty\n",
    "        'c2': 1,  # coefficient for L2 penalty\n",
    "        'max_iterations': 500,  # stop earlier\n",
    "        # include transitions that are possible, but not observed\n",
    "        'feature.possible_transitions': True\n",
    "    })\n",
    "    #trainer.params()\n",
    "    \n",
    "    trainer.train(model_name)\n",
    "    #!ls -lh ./necrf-suite\n",
    "    \n",
    "    tagger = pycrfsuite.Tagger()\n",
    "    tagger.open(model_name)\n",
    "    \n",
    "    with open(output_file, 'w') as f:\n",
    "        for tweet in X_test:\n",
    "            guesses = tagger.tag(tweet)\n",
    "            for tag in guesses:\n",
    "                if tag != '<S>' and tag != '</S>':\n",
    "                    f.write(tag + \"\\n\")\n",
    "            f.write(\"\\n\")"
   ]
  },
  {
   "cell_type": "code",
   "execution_count": 122,
   "metadata": {
    "collapsed": false
   },
   "outputs": [],
   "source": [
    "def main(argv):    \n",
    "    parser = argparse.ArgumentParser()\n",
    "    parser.add_argument('-train', help='Path to features training file', dest='train', required=True)\n",
    "    parser.add_argument('-test', help='Path to features test file', dest='test', required=True)\n",
    "    parser.add_argument('-model', help='Path to output model', dest='model', required=True)\n",
    "    parser.add_argument('-result', help='Path to output results', dest='result', required=True)\n",
    "    \n",
    "    args = parser.parse_args()\n",
    "    \n",
    "    X_train, Y_train, X_test = process_features(args.train, args.test)\n",
    "    \n",
    "    crf_tagger(X_train, Y_train, X_test, args.model, args.result)\n",
    "    \n",
    "             \n",
    "if __name__ == '__main__':\n",
    "    main(sys.argv[1:])"
   ]
  }
 ],
 "metadata": {
  "kernelspec": {
   "display_name": "Python 2",
   "language": "python",
   "name": "python2"
  },
  "language_info": {
   "codemirror_mode": {
    "name": "ipython",
    "version": 2
   },
   "file_extension": ".py",
   "mimetype": "text/x-python",
   "name": "python",
   "nbconvert_exporter": "python",
   "pygments_lexer": "ipython2",
   "version": "2.7.10"
  }
 },
 "nbformat": 4,
 "nbformat_minor": 0
}
