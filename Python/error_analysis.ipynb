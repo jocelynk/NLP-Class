{
 "cells": [
  {
   "cell_type": "code",
   "execution_count": 1,
   "metadata": {
    "collapsed": true
   },
   "outputs": [],
   "source": [
    "# labeled_data = \"./test_small_withlabels.txt\"\n",
    "# result_data = \"./kaggle-results.txt\"\n",
    "# error_analysis = \"./error_analysis.txt\"\n",
    "# dep_tree = \"./test-tweebo.processed.txt\"\n",
    "\n",
    "labeled_data = \"./test-cv-labeled3.txt\"\n",
    "result_data = \"./kaggle-results3.txt\"\n",
    "error_analysis = \"./error_analysis_cv.txt\"\n",
    "dep_tree = \"./train-tweebo.processed.txt\"\n",
    "\n"
   ]
  },
  {
   "cell_type": "code",
   "execution_count": null,
   "metadata": {
    "collapsed": true
   },
   "outputs": [],
   "source": [
    "import sys\n",
    "import argparse"
   ]
  },
  {
   "cell_type": "code",
   "execution_count": 27,
   "metadata": {
    "collapsed": false
   },
   "outputs": [],
   "source": [
    "def get_dependency_data(labeled_data, result_data, dep_tree): #Get dependency data\n",
    "    with open(labeled_data) as t:\n",
    "        input_lines = t.readlines()\n",
    "        labeled_temp = []\n",
    "        lbl = []\n",
    "        arr = []\n",
    "        arr2 = []\n",
    "        for line in input_lines:\n",
    "            try:\n",
    "                if line in ['\\n', '\\r\\n']:\n",
    "                    sentence = ' '.join(str(x) for x in arr) \n",
    "                    labeled_temp.append(sentence.strip())\n",
    "                    lbl.append(arr2)\n",
    "                    arr = []\n",
    "                    arr2 = []\n",
    "                else:\n",
    "                    (word, tag) = line.strip().split()\n",
    "                    arr.append(word)\n",
    "                    arr2.append((word, tag))\n",
    "            except ValueError:\n",
    "                continue\n",
    "\n",
    "    with open(result_data) as t:\n",
    "        input_lines = t.readlines()\n",
    "        result_temp = []\n",
    "        arr = []\n",
    "        for line in input_lines:\n",
    "            try:\n",
    "                if line in ['\\n', '\\r\\n']:\n",
    "                    result_temp.append(arr)\n",
    "                    arr = []\n",
    "                else:\n",
    "                    tag = line.strip()\n",
    "                    arr.append(tag)\n",
    "            except ValueError:\n",
    "                continue\n",
    "\n",
    "    with open(dep_tree) as t:\n",
    "        input_lines = t.readlines()\n",
    "        tree_temp = []\n",
    "        tree = []\n",
    "        arr = []\n",
    "        arr2 = []\n",
    "        for line in input_lines:\n",
    "            try:\n",
    "                if line in ['\\n', '\\r\\n']:\n",
    "                    sentence = ' '.join(str(x) for x in arr) \n",
    "                    tree_temp.append(sentence.strip())\n",
    "                    tree.append(arr2)\n",
    "                    arr = []\n",
    "                    arr2 = []\n",
    "                else:\n",
    "                    node = line.strip().split()\n",
    "                    arr.append(node[1])\n",
    "                    arr2.append(node)\n",
    "            except ValueError:\n",
    "                continue\n",
    "\n",
    "    labeled_indexes = []\n",
    "\n",
    "    for line in labeled_temp:\n",
    "        ind = tree_temp.index(line)\n",
    "        labeled_indexes.append(ind)\n",
    "        \n",
    "    return lbl, labeled_indexes, tree, result_temp\n",
    "                "
   ]
  },
  {
   "cell_type": "code",
   "execution_count": 37,
   "metadata": {
    "collapsed": false
   },
   "outputs": [
    {
     "name": "stdout",
     "output_type": "stream",
     "text": [
      "[('1', 'Soulja', '^', '2', 'MWE', 'B', 'B'), ('2', 'Boy', '^', '4', '_', 'I', 'I'), ('3', '|', 'G', '4', '_', 'O', 'O'), ('4', 'TheDeAndreWay', '^', '0', '_', 'O', 'O'), ('5', '.', ',', '-1', '_', 'O', 'O'), ('6', 'com', 'N', '0', '_', 'O', 'O'), ('7', '-', ',', '-1', '_', 'O', 'O'), ('8', 'The', 'D', '10', '_', 'O', 'B'), ('9', 'DeAndre', '^', '10', 'MWE', 'O', 'I'), ('10', 'Way', '^', '11', '_', 'O', 'I'), ('11', 'in', 'P', '0', '_', 'O', 'O'), ('12', 'stores', 'N', '11', '_', 'O', 'O'), ('13', 'Nov', '^', '12', '_', 'O', 'O'), ('14', '2', '$', '13', 'MWE', 'O', 'O'), ('15', ',', ',', '-1', '_', 'O', 'O'), ('16', '2010', '$', '0', '_', 'O', 'O'), ('17', 'souljaboytellem-iga.ning.com', 'U', '-1', '_', 'O', 'O'), ('18', 'via', 'P', '16', '_', 'O', 'O'), ('19', '@SouljaBoy', '@', '-1', '_', 'O', 'O'), ('20', '!', ',', '-1', '_', 'O', 'O'), ('21', '#Blessed', '#', '-1', '_', 'O', 'O')]\n"
     ]
    }
   ],
   "source": [
    "def get_error_analysis(lbl, labeled_indexes, tree, result_temp):\n",
    "    tweets = []\n",
    "    arr = []\n",
    "    ind = 0\n",
    "    match = 1\n",
    "    for t in range(len(lbl)):\n",
    "        node = tree[labeled_indexes[ind]]\n",
    "        for t1, t2, t3 in zip(lbl[t], result_temp[t], node):\n",
    "            (word, tag) = t1\n",
    "            guess = t2\n",
    "            (w_id, word, tag2, pos_tag, head, rel) = t3\n",
    "            if tag != guess.strip():\n",
    "                match = 0\n",
    "            arr.append((w_id, word, pos_tag, head, rel, tag, guess.strip()))\n",
    "        ind += 1\n",
    "\n",
    "        if not match:\n",
    "            tweets.append(arr)\n",
    "        match = 1\n",
    "        arr = []\n",
    "\n",
    "    return tweets"
   ]
  },
  {
   "cell_type": "code",
   "execution_count": 38,
   "metadata": {
    "collapsed": false
   },
   "outputs": [],
   "source": [
    "def write_error_analysis_file(file_name, tweets):\n",
    "    open(file_name, 'w').close()\n",
    "    with open (file_name, 'w') as f: \n",
    "        for tweet in tweets:\n",
    "            for word in tweet:\n",
    "                f.write(word[0] + \"\\t\" + word[1] + \"\\t\\t\" + word[2] + \"\\t\" +word[3] + \"\\t\" + word[4] + \"\\t\" + word[5] + \"\\t\" + word[6] +\"\\n\")\n",
    "            f.write(\"\\n\")"
   ]
  },
  {
   "cell_type": "code",
   "execution_count": null,
   "metadata": {
    "collapsed": true
   },
   "outputs": [],
   "source": [
    "def main(argv):    \n",
    "    parser = argparse.ArgumentParser()\n",
    "    parser.add_argument('-labeled-data', help='Path to labeled data', dest='lbl', required=True)\n",
    "    parser.add_argument('-guessed-data', help='Path to guessed tags', dest='guess', required=True)\n",
    "    parser.add_argument('-dep-tree-data', help='Path fo dependency tree file', dest='dep', required=True)\n",
    "    parser.add_argument('-output-file', help='Path to error analysis output file', dest='output', required=True)\n",
    "    \n",
    "    args = parser.parse_args()\n",
    "    \n",
    "    lbl, labeled_indexes, tree, result_temp = get_dependency_data(args.lbl, args.guess, args.dep)\n",
    "    tweets = get_error_analysis(lbl, labeled_indexes, tree, result_temp)\n",
    "    write_error_analysis_file(args.output, tweets)\n",
    "        \n",
    "             \n",
    "if __name__ == '__main__':\n",
    "    main(sys.argv[1:])"
   ]
  },
  {
   "cell_type": "code",
   "execution_count": null,
   "metadata": {
    "collapsed": false
   },
   "outputs": [],
   "source": [
    "with open(labeled_data) as l:\n",
    "    with open(result_data) as r:\n",
    "        with open(dep_tree) as d:\n",
    "            labels = l.readlines()\n",
    "            results = r.readlines()\n",
    "            deps = d.readlines()\n",
    "            tweets = []\n",
    "            arr = []\n",
    "            ind = 0\n",
    "            match = 1\n",
    "            for t1, t2, t3 in zip(labels, results, deps):\n",
    "                if t1 in ['\\n', '\\r\\n']:\n",
    "                    if not match:\n",
    "                        tweets.append(arr)\n",
    "                    match = 1\n",
    "                    arr = []\n",
    "                else:\n",
    "                    (word, tag) = t1.strip().split()\n",
    "                    (w_id, word, pos_tag, head, rel) = t3.strip().split()\n",
    "                    if tag != t2.strip():\n",
    "                        match = 0\n",
    "                    arr.append((w_id, word, pos_tag, head, rel, tag, t2.strip()))"
   ]
  },
  {
   "cell_type": "code",
   "execution_count": null,
   "metadata": {
    "collapsed": true
   },
   "outputs": [],
   "source": []
  }
 ],
 "metadata": {
  "kernelspec": {
   "display_name": "Python 2",
   "language": "python",
   "name": "python2"
  },
  "language_info": {
   "codemirror_mode": {
    "name": "ipython",
    "version": 2
   },
   "file_extension": ".py",
   "mimetype": "text/x-python",
   "name": "python",
   "nbconvert_exporter": "python",
   "pygments_lexer": "ipython2",
   "version": "2.7.10"
  }
 },
 "nbformat": 4,
 "nbformat_minor": 0
}
